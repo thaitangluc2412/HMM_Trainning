{
 "cells": [
  {
   "cell_type": "code",
   "execution_count": 7,
   "metadata": {},
   "outputs": [
    {
     "name": "stdout",
     "output_type": "stream",
     "text": [
      "607\n",
      "Requirement already satisfied: librosa in c:\\users\\os\\appdata\\local\\programs\\python\\python39\\lib\\site-packages (0.8.0)\n",
      "Requirement already satisfied: audioread>=2.0.0 in c:\\users\\os\\appdata\\local\\programs\\python\\python39\\lib\\site-packages (from librosa) (2.1.9)\n",
      "Requirement already satisfied: numpy>=1.15.0 in c:\\users\\os\\appdata\\local\\programs\\python\\python39\\lib\\site-packages (from librosa) (1.20.2)\n",
      "Requirement already satisfied: scipy>=1.0.0 in c:\\users\\os\\appdata\\local\\programs\\python\\python39\\lib\\site-packages (from librosa) (1.6.2)\n",
      "Requirement already satisfied: scikit-learn!=0.19.0,>=0.14.0 in c:\\users\\os\\appdata\\local\\programs\\python\\python39\\lib\\site-packages (from librosa) (0.24.1)\n",
      "Requirement already satisfied: joblib>=0.14 in c:\\users\\os\\appdata\\local\\programs\\python\\python39\\lib\\site-packages (from librosa) (1.0.1)\n",
      "Requirement already satisfied: decorator>=3.0.0 in c:\\users\\os\\appdata\\local\\programs\\python\\python39\\lib\\site-packages (from librosa) (5.0.5)\n",
      "Requirement already satisfied: resampy>=0.2.2 in c:\\users\\os\\appdata\\local\\programs\\python\\python39\\lib\\site-packages (from librosa) (0.2.2)\n",
      "Requirement already satisfied: numba>=0.43.0 in c:\\users\\os\\appdata\\local\\programs\\python\\python39\\lib\\site-packages (from librosa) (0.53.1)\n",
      "Requirement already satisfied: soundfile>=0.9.0 in c:\\users\\os\\appdata\\local\\programs\\python\\python39\\lib\\site-packages (from librosa) (0.10.3.post1)\n",
      "Requirement already satisfied: pooch>=1.0 in c:\\users\\os\\appdata\\local\\programs\\python\\python39\\lib\\site-packages (from librosa) (1.3.0)\n",
      "Requirement already satisfied: setuptools in c:\\users\\os\\appdata\\local\\programs\\python\\python39\\lib\\site-packages (from numba>=0.43.0->librosa) (49.2.1)\n",
      "Requirement already satisfied: llvmlite<0.37,>=0.36.0rc1 in c:\\users\\os\\appdata\\local\\programs\\python\\python39\\lib\\site-packages (from numba>=0.43.0->librosa) (0.36.0)\n",
      "Requirement already satisfied: packaging in c:\\users\\os\\appdata\\local\\programs\\python\\python39\\lib\\site-packages (from pooch>=1.0->librosa) (20.9)\n",
      "Requirement already satisfied: requests in c:\\users\\os\\appdata\\local\\programs\\python\\python39\\lib\\site-packages (from pooch>=1.0->librosa) (2.25.1)\n",
      "Requirement already satisfied: appdirs in c:\\users\\os\\appdata\\local\\programs\\python\\python39\\lib\\site-packages (from pooch>=1.0->librosa) (1.4.4)\n",
      "Requirement already satisfied: six>=1.3 in c:\\users\\os\\appdata\\local\\programs\\python\\python39\\lib\\site-packages (from resampy>=0.2.2->librosa) (1.15.0)\n",
      "Requirement already satisfied: threadpoolctl>=2.0.0 in c:\\users\\os\\appdata\\local\\programs\\python\\python39\\lib\\site-packages (from scikit-learn!=0.19.0,>=0.14.0->librosa) (2.1.0)\n",
      "Requirement already satisfied: cffi>=1.0 in c:\\users\\os\\appdata\\local\\programs\\python\\python39\\lib\\site-packages (from soundfile>=0.9.0->librosa) (1.14.5)\n",
      "Requirement already satisfied: pycparser in c:\\users\\os\\appdata\\local\\programs\\python\\python39\\lib\\site-packages (from cffi>=1.0->soundfile>=0.9.0->librosa) (2.20)\n",
      "Requirement already satisfied: pyparsing>=2.0.2 in c:\\users\\os\\appdata\\local\\programs\\python\\python39\\lib\\site-packages (from packaging->pooch>=1.0->librosa) (2.4.7)\n",
      "Requirement already satisfied: certifi>=2017.4.17 in c:\\users\\os\\appdata\\local\\programs\\python\\python39\\lib\\site-packages (from requests->pooch>=1.0->librosa) (2020.12.5)\n",
      "Requirement already satisfied: urllib3<1.27,>=1.21.1 in c:\\users\\os\\appdata\\local\\programs\\python\\python39\\lib\\site-packages (from requests->pooch>=1.0->librosa) (1.26.4)\n",
      "Requirement already satisfied: chardet<5,>=3.0.2 in c:\\users\\os\\appdata\\local\\programs\\python\\python39\\lib\\site-packages (from requests->pooch>=1.0->librosa) (4.0.0)\n",
      "Requirement already satisfied: idna<3,>=2.5 in c:\\users\\os\\appdata\\local\\programs\\python\\python39\\lib\\site-packages (from requests->pooch>=1.0->librosa) (2.10)\n",
      "Collecting hmmlearn\n",
      "  Downloading hmmlearn-0.2.5-cp39-cp39-win_amd64.whl (112 kB)\n",
      "Requirement already satisfied: scikit-learn>=0.16 in c:\\users\\os\\appdata\\local\\programs\\python\\python39\\lib\\site-packages (from hmmlearn) (0.24.1)\n",
      "Requirement already satisfied: numpy>=1.10 in c:\\users\\os\\appdata\\local\\programs\\python\\python39\\lib\\site-packages (from hmmlearn) (1.20.2)\n",
      "Requirement already satisfied: scipy>=0.19 in c:\\users\\os\\appdata\\local\\programs\\python\\python39\\lib\\site-packages (from hmmlearn) (1.6.2)\n",
      "Requirement already satisfied: joblib>=0.11 in c:\\users\\os\\appdata\\local\\programs\\python\\python39\\lib\\site-packages (from scikit-learn>=0.16->hmmlearn) (1.0.1)\n",
      "Requirement already satisfied: threadpoolctl>=2.0.0 in c:\\users\\os\\appdata\\local\\programs\\python\\python39\\lib\\site-packages (from scikit-learn>=0.16->hmmlearn) (2.1.0)\n",
      "Installing collected packages: hmmlearn\n",
      "Successfully installed hmmlearn-0.2.5\n"
     ]
    }
   ],
   "source": [
    "import os\n",
    "class_names = ['cothe', 'khong', 'nguoi', 'toi', 'nhung']\n",
    "states = [12, 9, 9, 9, 6]\n",
    "\n",
    "length = 0\n",
    "for d in class_names:\n",
    "    length += len(os.listdir(\"data/\" + d))\n",
    "print(length)\n",
    "\n",
    "!pip install librosa\n",
    "!pip install hmmlearn"
   ]
  },
  {
   "cell_type": "code",
   "execution_count": 8,
   "metadata": {},
   "outputs": [],
   "source": [
    "import librosa\n",
    "import numpy as np\n",
    "import os\n",
    "import math\n",
    "from sklearn.cluster import KMeans\n",
    "import hmmlearn.hmm\n",
    "\n",
    "def get_mfcc(file_path):\n",
    "    y, sr = librosa.load(file_path) # read .wav file\n",
    "    hop_length = math.floor(sr*0.010) # 10ms hop\n",
    "    win_length = math.floor(sr*0.025) # 25ms frame\n",
    "    # mfcc is 12 x T matrix\n",
    "    mfcc = librosa.feature.mfcc(\n",
    "        y, sr, n_mfcc=12, n_fft=1024,\n",
    "        hop_length=hop_length, win_length=win_length)\n",
    "    # substract mean from mfcc --> normalize mfcc\n",
    "    mfcc = mfcc - np.mean(mfcc, axis=1).reshape((-1,1)) \n",
    "    # delta feature 1st order and 2nd order\n",
    "    delta1 = librosa.feature.delta(mfcc, order=1)\n",
    "    delta2 = librosa.feature.delta(mfcc, order=2)\n",
    "    # X is 36 x T\n",
    "    X = np.concatenate([mfcc, delta1, delta2], axis=0) # O^r\n",
    "    # return T x 36 (transpose of X)\n",
    "    return X.T # hmmlearn use T x N matrix\n"
   ]
  },
  {
   "cell_type": "code",
   "execution_count": 9,
   "metadata": {},
   "outputs": [],
   "source": [
    "all_data = {}\n",
    "all_labels = {}\n",
    "for cname in class_names:\n",
    "    file_paths = [os.path.join(\"data\", cname, i) for i in os.listdir(os.path.join('data', cname)) if i.endswith('.wav')]\n",
    "    data = [get_mfcc(file_path) for file_path in file_paths]\n",
    "    all_data[cname] = data\n",
    "    all_labels[cname] = [class_names.index(cname) for i in range(len(file_paths))]"
   ]
  },
  {
   "cell_type": "code",
   "execution_count": 10,
   "metadata": {},
   "outputs": [],
   "source": [
    "from sklearn.model_selection import train_test_split\n",
    "\n",
    "X = {'train': {}, 'test': {}}\n",
    "y = {'train': {}, 'test': {}}\n",
    "for cname in class_names:\n",
    "    x_train, x_test, _, y_test = train_test_split(\n",
    "        all_data[cname], all_labels[cname], \n",
    "        test_size = 0.33, \n",
    "        random_state=42\n",
    "    )\n",
    "    X['train'][cname] = x_train\n",
    "    X['test'][cname] = x_test\n",
    "    y['test'][cname] = y_test"
   ]
  },
  {
   "cell_type": "code",
   "execution_count": 11,
   "metadata": {},
   "outputs": [
    {
     "name": "stdout",
     "output_type": "stream",
     "text": [
      "cothe 97 48 48\n",
      "khong 66 33 33\n",
      "nguoi 94 47 47\n",
      "toi 79 40 40\n",
      "nhung 66 33 33\n"
     ]
    }
   ],
   "source": [
    "for cname in class_names:\n",
    "    print(cname,len(X['train'][cname]), len(X['test'][cname]), len(y['test'][cname]))"
   ]
  },
  {
   "cell_type": "code",
   "execution_count": 12,
   "metadata": {},
   "outputs": [
    {
     "name": "stdout",
     "output_type": "stream",
     "text": [
      "cothe\n",
      "[[0.5 0.5 0.  0.  0.  0.  0.  0.  0.  0.  0.  0. ]\n",
      " [0.  0.5 0.5 0.  0.  0.  0.  0.  0.  0.  0.  0. ]\n",
      " [0.  0.  0.5 0.5 0.  0.  0.  0.  0.  0.  0.  0. ]\n",
      " [0.  0.  0.  0.5 0.5 0.  0.  0.  0.  0.  0.  0. ]\n",
      " [0.  0.  0.  0.  0.5 0.5 0.  0.  0.  0.  0.  0. ]\n",
      " [0.  0.  0.  0.  0.  0.5 0.5 0.  0.  0.  0.  0. ]\n",
      " [0.  0.  0.  0.  0.  0.  0.5 0.5 0.  0.  0.  0. ]\n",
      " [0.  0.  0.  0.  0.  0.  0.  0.5 0.5 0.  0.  0. ]\n",
      " [0.  0.  0.  0.  0.  0.  0.  0.  0.5 0.5 0.  0. ]\n",
      " [0.  0.  0.  0.  0.  0.  0.  0.  0.  0.5 0.5 0. ]\n",
      " [0.  0.  0.  0.  0.  0.  0.  0.  0.  0.  0.5 0.5]\n",
      " [0.  0.  0.  0.  0.  0.  0.  0.  0.  0.  0.  1. ]]\n"
     ]
    },
    {
     "name": "stderr",
     "output_type": "stream",
     "text": [
      "         1     -365604.4108             +nan\n",
      "         2     -351596.5130      +14007.8978\n",
      "         3     -349606.7959       +1989.7171\n",
      "         4     -348815.7811        +791.0147\n",
      "         5     -348360.1695        +455.6116\n",
      "         6     -348132.8258        +227.3437\n",
      "         7     -348004.3328        +128.4930\n",
      "         8     -347900.1501        +104.1827\n",
      "         9     -347806.4891         +93.6610\n",
      "        10     -347733.0375         +73.4516\n",
      "        11     -347623.8585        +109.1790\n",
      "        12     -347490.6612        +133.1973\n",
      "        13     -347381.6419        +109.0193\n",
      "        14     -347299.5207         +82.1212\n",
      "        15     -347238.8864         +60.6343\n",
      "        16     -347175.0869         +63.7995\n",
      "        17     -347114.5099         +60.5770\n",
      "        18     -347023.9300         +90.5799\n",
      "        19     -346940.1195         +83.8105\n",
      "        20     -346851.9886         +88.1309\n",
      "        21     -346780.7575         +71.2311\n",
      "        22     -346704.2874         +76.4702\n",
      "        23     -346640.9196         +63.3677\n",
      "        24     -346582.9233         +57.9964\n",
      "        25     -346516.6273         +66.2959\n",
      "        26     -346470.9299         +45.6975\n",
      "        27     -346425.3828         +45.5471\n",
      "        28     -346368.1981         +57.1847\n",
      "        29     -346345.0046         +23.1935\n",
      "        30     -346333.7981         +11.2065\n",
      "        31     -346326.7296          +7.0686\n",
      "        32     -346322.5934          +4.1361\n",
      "        33     -346319.7447          +2.8487\n",
      "        34     -346317.6021          +2.1426\n",
      "        35     -346315.8892          +1.7129\n",
      "        36     -346314.4863          +1.4029\n",
      "        37     -346313.3970          +1.0894\n",
      "        38     -346312.5888          +0.8082\n",
      "        39     -346311.9949          +0.5939\n",
      "        40     -346311.5734          +0.4215\n",
      "        41     -346311.3182          +0.2552\n",
      "        42     -346311.2429          +0.0753\n",
      "        43     -346311.3472          -0.1042\n"
     ]
    },
    {
     "name": "stdout",
     "output_type": "stream",
     "text": [
      "khong\n",
      "[[0.5 0.5 0.  0.  0.  0.  0.  0.  0. ]\n",
      " [0.  0.5 0.5 0.  0.  0.  0.  0.  0. ]\n",
      " [0.  0.  0.5 0.5 0.  0.  0.  0.  0. ]\n",
      " [0.  0.  0.  0.5 0.5 0.  0.  0.  0. ]\n",
      " [0.  0.  0.  0.  0.5 0.5 0.  0.  0. ]\n",
      " [0.  0.  0.  0.  0.  0.5 0.5 0.  0. ]\n",
      " [0.  0.  0.  0.  0.  0.  0.5 0.5 0. ]\n",
      " [0.  0.  0.  0.  0.  0.  0.  0.5 0.5]\n",
      " [0.  0.  0.  0.  0.  0.  0.  0.  1. ]]\n"
     ]
    },
    {
     "name": "stderr",
     "output_type": "stream",
     "text": [
      "         1     -413182.0120             +nan\n",
      "         2     -317089.3375      +96092.6745\n",
      "         3     -206737.9790     +110351.3586\n",
      "         4      -34273.2304     +172464.7486\n",
      "         5       15949.1173      +50222.3476\n",
      "         6       25186.4777       +9237.3604\n",
      "         7       25780.5621        +594.0844\n",
      "         8       25916.6530        +136.0909\n",
      "         9       26068.1311        +151.4781\n",
      "        10       26256.6211        +188.4900\n",
      "        11       26414.1672        +157.5461\n",
      "        12       26663.6151        +249.4478\n",
      "        13       26965.1199        +301.5048\n",
      "        14       26937.6369         -27.4830\n"
     ]
    },
    {
     "name": "stdout",
     "output_type": "stream",
     "text": [
      "nguoi\n",
      "[[0.5 0.5 0.  0.  0.  0.  0.  0.  0. ]\n",
      " [0.  0.5 0.5 0.  0.  0.  0.  0.  0. ]\n",
      " [0.  0.  0.5 0.5 0.  0.  0.  0.  0. ]\n",
      " [0.  0.  0.  0.5 0.5 0.  0.  0.  0. ]\n",
      " [0.  0.  0.  0.  0.5 0.5 0.  0.  0. ]\n",
      " [0.  0.  0.  0.  0.  0.5 0.5 0.  0. ]\n",
      " [0.  0.  0.  0.  0.  0.  0.5 0.5 0. ]\n",
      " [0.  0.  0.  0.  0.  0.  0.  0.5 0.5]\n",
      " [0.  0.  0.  0.  0.  0.  0.  0.  1. ]]\n"
     ]
    },
    {
     "name": "stderr",
     "output_type": "stream",
     "text": [
      "         1     -217813.1281             +nan\n",
      "         2     -209157.3115       +8655.8167\n",
      "         3     -208147.9771       +1009.3344\n",
      "         4     -207806.5226        +341.4545\n",
      "         5     -207424.0520        +382.4706\n",
      "         6     -207303.1304        +120.9216\n",
      "         7     -207200.8859        +102.2445\n",
      "         8     -207142.2976         +58.5882\n",
      "         9     -207096.5280         +45.7696\n",
      "        10     -207041.4015         +55.1265\n",
      "        11     -206978.3098         +63.0917\n",
      "        12     -206894.1637         +84.1461\n",
      "        13     -206840.6807         +53.4830\n",
      "        14     -206822.4569         +18.2238\n",
      "        15     -206808.8581         +13.5989\n",
      "        16     -206803.2156          +5.6424\n",
      "        17     -206800.1107          +3.1049\n",
      "        18     -206798.5419          +1.5689\n",
      "        19     -206797.6847          +0.8571\n",
      "        20     -206797.4155          +0.2693\n",
      "        21     -206778.8232         +18.5922\n",
      "        22     -206776.1488          +2.6744\n",
      "        23     -206775.5650          +0.5839\n",
      "        24     -206776.1683          -0.6034\n"
     ]
    },
    {
     "name": "stdout",
     "output_type": "stream",
     "text": [
      "toi\n",
      "[[0.5 0.5 0.  0.  0.  0.  0.  0.  0. ]\n",
      " [0.  0.5 0.5 0.  0.  0.  0.  0.  0. ]\n",
      " [0.  0.  0.5 0.5 0.  0.  0.  0.  0. ]\n",
      " [0.  0.  0.  0.5 0.5 0.  0.  0.  0. ]\n",
      " [0.  0.  0.  0.  0.5 0.5 0.  0.  0. ]\n",
      " [0.  0.  0.  0.  0.  0.5 0.5 0.  0. ]\n",
      " [0.  0.  0.  0.  0.  0.  0.5 0.5 0. ]\n",
      " [0.  0.  0.  0.  0.  0.  0.  0.5 0.5]\n",
      " [0.  0.  0.  0.  0.  0.  0.  0.  1. ]]\n"
     ]
    },
    {
     "name": "stderr",
     "output_type": "stream",
     "text": [
      "         1     -188477.8742             +nan\n",
      "         2     -179580.5109       +8897.3633\n",
      "         3     -177568.6988       +2011.8121\n",
      "         4     -176840.8946        +727.8042\n",
      "         5     -176475.8833        +365.0113\n",
      "         6     -176201.0168        +274.8665\n",
      "         7     -176014.1032        +186.9136\n",
      "         8     -175933.5735         +80.5297\n",
      "         9     -175918.2697         +15.3038\n",
      "        10     -175913.1743          +5.0954\n",
      "        11     -175927.8871         -14.7128\n"
     ]
    },
    {
     "name": "stdout",
     "output_type": "stream",
     "text": [
      "nhung\n",
      "[[0.5 0.5 0.  0.  0.  0. ]\n",
      " [0.  0.5 0.5 0.  0.  0. ]\n",
      " [0.  0.  0.5 0.5 0.  0. ]\n",
      " [0.  0.  0.  0.5 0.5 0. ]\n",
      " [0.  0.  0.  0.  0.5 0.5]\n",
      " [0.  0.  0.  0.  0.  1. ]]\n"
     ]
    },
    {
     "name": "stderr",
     "output_type": "stream",
     "text": [
      "         1     -139957.5605             +nan\n",
      "         2     -134871.9913       +5085.5692\n",
      "         3     -133760.6617       +1111.3297\n",
      "         4     -133557.4086        +203.2531\n",
      "         5     -133486.4107         +70.9979\n",
      "         6     -133408.5543         +77.8564\n",
      "         7     -133244.3396        +164.2147\n",
      "         8     -133023.7228        +220.6168\n",
      "         9     -132829.5319        +194.1909\n",
      "        10     -132734.4166         +95.1153\n",
      "        11     -132709.8467         +24.5699\n",
      "        12     -132699.5406         +10.3061\n",
      "        13     -132692.6588          +6.8818\n",
      "        14     -132685.0395          +7.6193\n",
      "        15     -132674.4174         +10.6221\n",
      "        16     -132664.9179          +9.4995\n",
      "        17     -132652.8582         +12.0597\n",
      "        18     -132611.8373         +41.0209\n",
      "        19     -132514.8569         +96.9804\n",
      "        20     -132419.3889         +95.4680\n",
      "        21     -132319.7026         +99.6863\n",
      "        22     -132299.3319         +20.3707\n",
      "        23     -132291.8552          +7.4767\n",
      "        24     -132288.6066          +3.2486\n",
      "        25     -132287.8528          +0.7538\n",
      "        26     -132287.6026          +0.2502\n",
      "        27     -132287.3881          +0.2145\n",
      "        28     -132287.0981          +0.2900\n",
      "        29     -132286.5979          +0.5003\n",
      "        30     -132286.0453          +0.5525\n",
      "        31     -132285.8205          +0.2249\n",
      "        32     -132285.7422          +0.0782\n",
      "        33     -132285.6957          +0.0466\n",
      "        34     -132285.6568          +0.0389\n",
      "        35     -132285.6107          +0.0460\n",
      "        36     -132285.5243          +0.0865\n",
      "        37     -132285.2865          +0.2378\n",
      "        38     -132284.7259          +0.5606\n",
      "        39     -132284.2667          +0.4592\n",
      "        40     -132284.1479          +0.1188\n",
      "        41     -132284.1201          +0.0278\n",
      "        42     -132284.1115          +0.0087\n"
     ]
    }
   ],
   "source": [
    "import hmmlearn.hmm as hmm\n",
    "\n",
    "model = {}\n",
    "for idx, cname in enumerate(class_names):\n",
    "    start_prob = np.full(states[idx], 0.0)\n",
    "    start_prob[0] = 1.0\n",
    "    trans_matrix = np.full((states[idx], states[idx]), 0.0)\n",
    "    p = 0.5\n",
    "    np.fill_diagonal(trans_matrix, p)\n",
    "    np.fill_diagonal(trans_matrix[0:, 1:], 1 - p)\n",
    "    trans_matrix[-1, -1] = 1.0\n",
    "    \n",
    "    #trans matrix\n",
    "    print(cname)\n",
    "    print(trans_matrix) \n",
    "\n",
    "    model[cname] = hmm.GaussianHMM(\n",
    "        n_components=states[idx], \n",
    "        verbose=True, \n",
    "        n_iter=300, \n",
    "        startprob_prior=start_prob, \n",
    "        transmat_prior=trans_matrix,\n",
    "        params='stmc',\n",
    "        init_params='mc',\n",
    "        random_state=42\n",
    "    )\n",
    "\n",
    "    model[cname].fit(X=np.vstack(X['train'][cname]), lengths=[x.shape[0] for x in X['train'][cname]])"
   ]
  },
  {
   "cell_type": "code",
   "execution_count": 13,
   "metadata": {},
   "outputs": [],
   "source": [
    "import pickle\n",
    "\n",
    "# save model\n",
    "for cname in class_names:\n",
    "    name = f'models_train\\model_{cname}.pkl'\n",
    "    with open(name, 'wb') as file: \n",
    "        pickle.dump(model[cname], file)"
   ]
  },
  {
   "cell_type": "code",
   "execution_count": 14,
   "metadata": {},
   "outputs": [],
   "source": [
    "import pickle, os\n",
    "import numpy as np\n",
    "\n",
    "from sklearn.metrics import classification_report"
   ]
  },
  {
   "cell_type": "code",
   "execution_count": 15,
   "metadata": {},
   "outputs": [
    {
     "name": "stdout",
     "output_type": "stream",
     "text": [
      "0.9791666666666666\n",
      "0.9876543209876543\n",
      "0.96875\n",
      "0.9523809523809523\n",
      "0.9552238805970149\n",
      "[0, 0, 0, 0, 0, 0, 0, 0, 0, 0, 0, 0, 0, 0, 0, 0, 0, 0, 0, 0, 0, 0, 0, 0, 0, 0, 0, 0, 0, 0, 0, 0, 0, 0, 0, 0, 0, 0, 0, 0, 0, 0, 0, 0, 0, 0, 0, 0, 1, 1, 1, 1, 1, 1, 1, 1, 1, 1, 1, 1, 1, 1, 1, 1, 1, 1, 1, 1, 1, 1, 1, 1, 1, 1, 1, 1, 1, 1, 1, 1, 1, 2, 2, 2, 2, 2, 2, 2, 2, 2, 2, 2, 2, 2, 2, 2, 2, 2, 2, 2, 2, 2, 2, 2, 2, 2, 2, 2, 2, 2, 2, 2, 2, 2, 2, 2, 2, 2, 2, 2, 2, 2, 2, 2, 2, 2, 2, 2, 3, 3, 3, 3, 3, 3, 3, 3, 3, 3, 3, 3, 3, 3, 3, 3, 3, 3, 3, 3, 3, 3, 3, 3, 3, 3, 3, 3, 3, 3, 3, 3, 3, 3, 3, 3, 3, 3, 3, 3, 4, 4, 4, 4, 4, 4, 4, 4, 4, 4, 4, 4, 4, 4, 4, 4, 4, 4, 4, 4, 4, 4, 4, 4, 4, 4, 4, 4, 4, 4, 4, 4, 4]\n",
      "[0, 0, 0, 0, 0, 0, 0, 0, 0, 0, 0, 0, 0, 0, 0, 0, 0, 0, 2, 0, 0, 0, 0, 0, 0, 0, 0, 0, 0, 0, 0, 0, 0, 0, 0, 0, 0, 0, 0, 0, 0, 0, 0, 0, 0, 0, 0, 0, 1, 1, 1, 1, 1, 1, 1, 1, 1, 1, 1, 1, 1, 1, 1, 1, 1, 1, 1, 1, 1, 1, 1, 1, 1, 1, 1, 1, 1, 1, 1, 1, 1, 2, 2, 2, 2, 2, 2, 2, 2, 2, 2, 2, 2, 4, 2, 2, 2, 2, 2, 2, 2, 2, 2, 2, 2, 2, 2, 2, 2, 2, 2, 4, 2, 2, 2, 2, 2, 2, 2, 2, 2, 2, 0, 2, 2, 2, 2, 2, 3, 3, 3, 3, 3, 3, 3, 3, 4, 3, 3, 3, 3, 3, 3, 0, 3, 3, 3, 3, 3, 3, 3, 3, 3, 3, 3, 3, 3, 3, 3, 3, 3, 4, 3, 3, 3, 3, 3, 1, 4, 4, 4, 4, 4, 4, 4, 4, 4, 4, 4, 4, 4, 4, 4, 4, 4, 4, 4, 4, 4, 4, 4, 4, 4, 4, 4, 4, 4, 4, 3, 4, 4]\n"
     ]
    }
   ],
   "source": [
    "y_true = []\n",
    "y_pred = []\n",
    "for cname in class_names:\n",
    "    for mfcc, target in zip(X['test'][cname], y['test'][cname]):\n",
    "        scores = [model[cname].score(mfcc) for cname in class_names]\n",
    "        pred = np.argmax(scores)\n",
    "        y_pred.append(pred)\n",
    "        y_true.append(target)\n",
    "    print((np.array(y_true) == np.array(y_pred)).sum()/len(y_true))\n",
    "print(y_true)\n",
    "print(y_pred)\n"
   ]
  },
  {
   "cell_type": "code",
   "execution_count": 16,
   "metadata": {},
   "outputs": [
    {
     "name": "stdout",
     "output_type": "stream",
     "text": [
      "              precision    recall  f1-score   support\n",
      "\n",
      "       cothe       0.96      0.98      0.97        48\n",
      "       khong       0.97      1.00      0.99        33\n",
      "       nguoi       0.98      0.94      0.96        47\n",
      "         toi       0.97      0.90      0.94        40\n",
      "       nhung       0.89      0.97      0.93        33\n",
      "\n",
      "    accuracy                           0.96       201\n",
      "   macro avg       0.95      0.96      0.95       201\n",
      "weighted avg       0.96      0.96      0.96       201\n",
      "\n"
     ]
    }
   ],
   "source": [
    "report = classification_report(y_true, y_pred, target_names=class_names)\n",
    "print(report)"
   ]
  },
  {
   "cell_type": "code",
   "execution_count": 17,
   "metadata": {},
   "outputs": [],
   "source": [
    "#loadmodels\n",
    "import pickle\n",
    "\n",
    "model_train = {}\n",
    "for key in class_names:\n",
    "    name = f\"models\\model_{key}.pkl\"\n",
    "    with open(name, 'rb') as file:\n",
    "        model_train[key] = pickle.load(file)"
   ]
  },
  {
   "cell_type": "code",
   "execution_count": 18,
   "metadata": {},
   "outputs": [
    {
     "name": "stdout",
     "output_type": "stream",
     "text": [
      "{'cothe': GaussianHMM(init_params='mc', n_components=12, n_iter=300, random_state=42,\n",
      "            startprob_prior=array([1., 0., 0., 0., 0., 0., 0., 0., 0., 0., 0., 0.]),\n",
      "            transmat_prior=array([[0.5, 0.5, 0. , 0. , 0. , 0. , 0. , 0. , 0. , 0. , 0. , 0. ],\n",
      "       [0. , 0.5, 0.5, 0. , 0. , 0. , 0. , 0. , 0. , 0. , 0. , 0. ],\n",
      "       [0. , 0. , 0.5, 0.5, 0. , 0. , 0. , 0. , 0. , 0. , 0. , 0. ],\n",
      "       [0. , 0. , 0. , 0.5, 0.5, 0. , 0. , 0. , 0. , 0. , 0. , 0. ],\n",
      "       [0. , 0. , 0. , 0. , 0.5, 0.5, 0. , 0. , 0. , 0. , 0. , 0. ],\n",
      "       [0. , 0. , 0. , 0. , 0. , 0.5, 0.5, 0. , 0. , 0. , 0. , 0. ],\n",
      "       [0. , 0. , 0. , 0. , 0. , 0. , 0.5, 0.5, 0. , 0. , 0. , 0. ],\n",
      "       [0. , 0. , 0. , 0. , 0. , 0. , 0. , 0.5, 0.5, 0. , 0. , 0. ],\n",
      "       [0. , 0. , 0. , 0. , 0. , 0. , 0. , 0. , 0.5, 0.5, 0. , 0. ],\n",
      "       [0. , 0. , 0. , 0. , 0. , 0. , 0. , 0. , 0. , 0.5, 0.5, 0. ],\n",
      "       [0. , 0. , 0. , 0. , 0. , 0. , 0. , 0. , 0. , 0. , 0.5, 0.5],\n",
      "       [0. , 0. , 0. , 0. , 0. , 0. , 0. , 0. , 0. , 0. , 0. , 1. ]]),\n",
      "            verbose=True), 'khong': GaussianHMM(init_params='mc', n_components=9, n_iter=300, random_state=42,\n",
      "            startprob_prior=array([1., 0., 0., 0., 0., 0., 0., 0., 0.]),\n",
      "            transmat_prior=array([[0.5, 0.5, 0. , 0. , 0. , 0. , 0. , 0. , 0. ],\n",
      "       [0. , 0.5, 0.5, 0. , 0. , 0. , 0. , 0. , 0. ],\n",
      "       [0. , 0. , 0.5, 0.5, 0. , 0. , 0. , 0. , 0. ],\n",
      "       [0. , 0. , 0. , 0.5, 0.5, 0. , 0. , 0. , 0. ],\n",
      "       [0. , 0. , 0. , 0. , 0.5, 0.5, 0. , 0. , 0. ],\n",
      "       [0. , 0. , 0. , 0. , 0. , 0.5, 0.5, 0. , 0. ],\n",
      "       [0. , 0. , 0. , 0. , 0. , 0. , 0.5, 0.5, 0. ],\n",
      "       [0. , 0. , 0. , 0. , 0. , 0. , 0. , 0.5, 0.5],\n",
      "       [0. , 0. , 0. , 0. , 0. , 0. , 0. , 0. , 1. ]]),\n",
      "            verbose=True), 'nguoi': GaussianHMM(init_params='mc', n_components=9, n_iter=300, random_state=42,\n",
      "            startprob_prior=array([1., 0., 0., 0., 0., 0., 0., 0., 0.]),\n",
      "            transmat_prior=array([[0.5, 0.5, 0. , 0. , 0. , 0. , 0. , 0. , 0. ],\n",
      "       [0. , 0.5, 0.5, 0. , 0. , 0. , 0. , 0. , 0. ],\n",
      "       [0. , 0. , 0.5, 0.5, 0. , 0. , 0. , 0. , 0. ],\n",
      "       [0. , 0. , 0. , 0.5, 0.5, 0. , 0. , 0. , 0. ],\n",
      "       [0. , 0. , 0. , 0. , 0.5, 0.5, 0. , 0. , 0. ],\n",
      "       [0. , 0. , 0. , 0. , 0. , 0.5, 0.5, 0. , 0. ],\n",
      "       [0. , 0. , 0. , 0. , 0. , 0. , 0.5, 0.5, 0. ],\n",
      "       [0. , 0. , 0. , 0. , 0. , 0. , 0. , 0.5, 0.5],\n",
      "       [0. , 0. , 0. , 0. , 0. , 0. , 0. , 0. , 1. ]]),\n",
      "            verbose=True), 'toi': GaussianHMM(init_params='mc', n_components=9, n_iter=300, random_state=42,\n",
      "            startprob_prior=array([1., 0., 0., 0., 0., 0., 0., 0., 0.]),\n",
      "            transmat_prior=array([[0.5, 0.5, 0. , 0. , 0. , 0. , 0. , 0. , 0. ],\n",
      "       [0. , 0.5, 0.5, 0. , 0. , 0. , 0. , 0. , 0. ],\n",
      "       [0. , 0. , 0.5, 0.5, 0. , 0. , 0. , 0. , 0. ],\n",
      "       [0. , 0. , 0. , 0.5, 0.5, 0. , 0. , 0. , 0. ],\n",
      "       [0. , 0. , 0. , 0. , 0.5, 0.5, 0. , 0. , 0. ],\n",
      "       [0. , 0. , 0. , 0. , 0. , 0.5, 0.5, 0. , 0. ],\n",
      "       [0. , 0. , 0. , 0. , 0. , 0. , 0.5, 0.5, 0. ],\n",
      "       [0. , 0. , 0. , 0. , 0. , 0. , 0. , 0.5, 0.5],\n",
      "       [0. , 0. , 0. , 0. , 0. , 0. , 0. , 0. , 1. ]]),\n",
      "            verbose=True), 'nhung': GaussianHMM(init_params='mc', n_components=6, n_iter=300, random_state=42,\n",
      "            startprob_prior=array([1., 0., 0., 0., 0., 0.]),\n",
      "            transmat_prior=array([[0.5, 0.5, 0. , 0. , 0. , 0. ],\n",
      "       [0. , 0.5, 0.5, 0. , 0. , 0. ],\n",
      "       [0. , 0. , 0.5, 0.5, 0. , 0. ],\n",
      "       [0. , 0. , 0. , 0.5, 0.5, 0. ],\n",
      "       [0. , 0. , 0. , 0. , 0.5, 0.5],\n",
      "       [0. , 0. , 0. , 0. , 0. , 1. ]]),\n",
      "            verbose=True)}\n"
     ]
    }
   ],
   "source": [
    "print(model_train)"
   ]
  },
  {
   "cell_type": "code",
   "execution_count": null,
   "metadata": {},
   "outputs": [],
   "source": []
  },
  {
   "cell_type": "code",
   "execution_count": null,
   "metadata": {},
   "outputs": [],
   "source": []
  },
  {
   "cell_type": "code",
   "execution_count": null,
   "metadata": {},
   "outputs": [],
   "source": []
  },
  {
   "cell_type": "code",
   "execution_count": null,
   "metadata": {},
   "outputs": [],
   "source": []
  }
 ],
 "metadata": {
  "kernelspec": {
   "display_name": "Python 3",
   "language": "python",
   "name": "python3"
  },
  "language_info": {
   "codemirror_mode": {
    "name": "ipython",
    "version": 3
   },
   "file_extension": ".py",
   "mimetype": "text/x-python",
   "name": "python",
   "nbconvert_exporter": "python",
   "pygments_lexer": "ipython3",
   "version": "3.9.4"
  }
 },
 "nbformat": 4,
 "nbformat_minor": 4
}
